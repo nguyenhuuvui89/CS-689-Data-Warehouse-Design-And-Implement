{
 "cells": [
  {
   "cell_type": "code",
   "execution_count": 1,
   "id": "a9c2e1a2",
   "metadata": {},
   "outputs": [],
   "source": [
    "import pandas as pd"
   ]
  },
  {
   "cell_type": "code",
   "execution_count": 5,
   "id": "0f69ee19",
   "metadata": {},
   "outputs": [
    {
     "name": "stderr",
     "output_type": "stream",
     "text": [
      "/var/folders/6c/xgblq5v97lb39fths3r32xvm0000gn/T/ipykernel_94173/431724778.py:1: DtypeWarning: Columns (5,6,7,8,11,13,18,19,23,24,25,26,28,29,30,34,35,38,43,44,46,73,77,81,82,84,85,87,88,94,96,97,98,99,111,114,116,119,120,122,124,125,127,129,131,133,135,137,140) have mixed types. Specify dtype option on import or set low_memory=False.\n",
      "  Trip_Staging_read_df = pd.read_csv('CLIWOC15.csv')\n"
     ]
    }
   ],
   "source": [
    "Trip_Staging_read_df = pd.read_csv('CLIWOC15.csv')"
   ]
  },
  {
   "cell_type": "code",
   "execution_count": 7,
   "id": "69f2015c",
   "metadata": {},
   "outputs": [
    {
     "data": {
      "text/html": [
       "<div>\n",
       "<style scoped>\n",
       "    .dataframe tbody tr th:only-of-type {\n",
       "        vertical-align: middle;\n",
       "    }\n",
       "\n",
       "    .dataframe tbody tr th {\n",
       "        vertical-align: top;\n",
       "    }\n",
       "\n",
       "    .dataframe thead th {\n",
       "        text-align: right;\n",
       "    }\n",
       "</style>\n",
       "<table border=\"1\" class=\"dataframe\">\n",
       "  <thead>\n",
       "    <tr style=\"text-align: right;\">\n",
       "      <th></th>\n",
       "      <th>ShipName</th>\n",
       "      <th>ShipType</th>\n",
       "      <th>Nationality</th>\n",
       "      <th>RecID</th>\n",
       "      <th>Year</th>\n",
       "      <th>Month</th>\n",
       "      <th>Day</th>\n",
       "      <th>Distance</th>\n",
       "      <th>ShipSpeed</th>\n",
       "      <th>drLatDeg</th>\n",
       "    </tr>\n",
       "  </thead>\n",
       "  <tbody>\n",
       "    <tr>\n",
       "      <th>0</th>\n",
       "      <td>LA ORBE</td>\n",
       "      <td>FRAGATA</td>\n",
       "      <td>Spanish</td>\n",
       "      <td>108</td>\n",
       "      <td>1800</td>\n",
       "      <td>5</td>\n",
       "      <td>2</td>\n",
       "      <td>NaN</td>\n",
       "      <td>NaN</td>\n",
       "      <td>NaN</td>\n",
       "    </tr>\n",
       "    <tr>\n",
       "      <th>1</th>\n",
       "      <td>SAN CARLOS</td>\n",
       "      <td>PAQUEBOTE</td>\n",
       "      <td>Spanish</td>\n",
       "      <td>109</td>\n",
       "      <td>1790</td>\n",
       "      <td>4</td>\n",
       "      <td>11</td>\n",
       "      <td>NaN</td>\n",
       "      <td>NaN</td>\n",
       "      <td>NaN</td>\n",
       "    </tr>\n",
       "    <tr>\n",
       "      <th>2</th>\n",
       "      <td>SAN CARLOS</td>\n",
       "      <td>PAQUEBOTE</td>\n",
       "      <td>Spanish</td>\n",
       "      <td>110</td>\n",
       "      <td>1790</td>\n",
       "      <td>4</td>\n",
       "      <td>12</td>\n",
       "      <td>NaN</td>\n",
       "      <td>NaN</td>\n",
       "      <td>NaN</td>\n",
       "    </tr>\n",
       "    <tr>\n",
       "      <th>3</th>\n",
       "      <td>SAN CARLOS</td>\n",
       "      <td>PAQUEBOTE</td>\n",
       "      <td>Spanish</td>\n",
       "      <td>111</td>\n",
       "      <td>1790</td>\n",
       "      <td>4</td>\n",
       "      <td>13</td>\n",
       "      <td>NaN</td>\n",
       "      <td>NaN</td>\n",
       "      <td>NaN</td>\n",
       "    </tr>\n",
       "    <tr>\n",
       "      <th>4</th>\n",
       "      <td>SAN CARLOS</td>\n",
       "      <td>PAQUEBOTE</td>\n",
       "      <td>Spanish</td>\n",
       "      <td>112</td>\n",
       "      <td>1790</td>\n",
       "      <td>4</td>\n",
       "      <td>14</td>\n",
       "      <td>NaN</td>\n",
       "      <td>NaN</td>\n",
       "      <td>NaN</td>\n",
       "    </tr>\n",
       "    <tr>\n",
       "      <th>...</th>\n",
       "      <td>...</td>\n",
       "      <td>...</td>\n",
       "      <td>...</td>\n",
       "      <td>...</td>\n",
       "      <td>...</td>\n",
       "      <td>...</td>\n",
       "      <td>...</td>\n",
       "      <td>...</td>\n",
       "      <td>...</td>\n",
       "      <td>...</td>\n",
       "    </tr>\n",
       "    <tr>\n",
       "      <th>280275</th>\n",
       "      <td>Euryalus</td>\n",
       "      <td>5th Rate</td>\n",
       "      <td>British</td>\n",
       "      <td>280276</td>\n",
       "      <td>1805</td>\n",
       "      <td>2</td>\n",
       "      <td>4</td>\n",
       "      <td>84.0</td>\n",
       "      <td>NaN</td>\n",
       "      <td>42.0</td>\n",
       "    </tr>\n",
       "    <tr>\n",
       "      <th>280276</th>\n",
       "      <td>Euryalus</td>\n",
       "      <td>5th Rate</td>\n",
       "      <td>British</td>\n",
       "      <td>280277</td>\n",
       "      <td>1805</td>\n",
       "      <td>2</td>\n",
       "      <td>5</td>\n",
       "      <td>107.0</td>\n",
       "      <td>NaN</td>\n",
       "      <td>41.0</td>\n",
       "    </tr>\n",
       "    <tr>\n",
       "      <th>280277</th>\n",
       "      <td>Euryalus</td>\n",
       "      <td>5th Rate</td>\n",
       "      <td>British</td>\n",
       "      <td>280278</td>\n",
       "      <td>1805</td>\n",
       "      <td>2</td>\n",
       "      <td>6</td>\n",
       "      <td>189.0</td>\n",
       "      <td>NaN</td>\n",
       "      <td>38.0</td>\n",
       "    </tr>\n",
       "    <tr>\n",
       "      <th>280278</th>\n",
       "      <td>Euryalus</td>\n",
       "      <td>5th Rate</td>\n",
       "      <td>British</td>\n",
       "      <td>280279</td>\n",
       "      <td>1805</td>\n",
       "      <td>2</td>\n",
       "      <td>7</td>\n",
       "      <td>70.0</td>\n",
       "      <td>NaN</td>\n",
       "      <td>37.0</td>\n",
       "    </tr>\n",
       "    <tr>\n",
       "      <th>280279</th>\n",
       "      <td>Euryalus</td>\n",
       "      <td>5th Rate</td>\n",
       "      <td>British</td>\n",
       "      <td>280280</td>\n",
       "      <td>1805</td>\n",
       "      <td>2</td>\n",
       "      <td>8</td>\n",
       "      <td>37.0</td>\n",
       "      <td>NaN</td>\n",
       "      <td>37.0</td>\n",
       "    </tr>\n",
       "  </tbody>\n",
       "</table>\n",
       "<p>280280 rows × 10 columns</p>\n",
       "</div>"
      ],
      "text/plain": [
       "          ShipName   ShipType Nationality   RecID  Year  Month  Day  Distance  \\\n",
       "0          LA ORBE    FRAGATA     Spanish     108  1800      5    2       NaN   \n",
       "1       SAN CARLOS  PAQUEBOTE     Spanish     109  1790      4   11       NaN   \n",
       "2       SAN CARLOS  PAQUEBOTE     Spanish     110  1790      4   12       NaN   \n",
       "3       SAN CARLOS  PAQUEBOTE     Spanish     111  1790      4   13       NaN   \n",
       "4       SAN CARLOS  PAQUEBOTE     Spanish     112  1790      4   14       NaN   \n",
       "...            ...        ...         ...     ...   ...    ...  ...       ...   \n",
       "280275    Euryalus   5th Rate     British  280276  1805      2    4      84.0   \n",
       "280276    Euryalus   5th Rate     British  280277  1805      2    5     107.0   \n",
       "280277    Euryalus   5th Rate     British  280278  1805      2    6     189.0   \n",
       "280278    Euryalus   5th Rate     British  280279  1805      2    7      70.0   \n",
       "280279    Euryalus   5th Rate     British  280280  1805      2    8      37.0   \n",
       "\n",
       "        ShipSpeed  drLatDeg  \n",
       "0             NaN       NaN  \n",
       "1             NaN       NaN  \n",
       "2             NaN       NaN  \n",
       "3             NaN       NaN  \n",
       "4             NaN       NaN  \n",
       "...           ...       ...  \n",
       "280275        NaN      42.0  \n",
       "280276        NaN      41.0  \n",
       "280277        NaN      38.0  \n",
       "280278        NaN      37.0  \n",
       "280279        NaN      37.0  \n",
       "\n",
       "[280280 rows x 10 columns]"
      ]
     },
     "execution_count": 7,
     "metadata": {},
     "output_type": "execute_result"
    }
   ],
   "source": [
    "# Filter needed columns for Trips_Staging\n",
    "TripStaging_df = Trip_Staging_read_df.filter(['ShipName','ShipType','Nationality', 'RecID', 'Year',\n",
    "                                             'Month', 'Day', 'Distance', 'ShipSpeed', 'drLatDeg'])\n",
    "TripStaging_df"
   ]
  },
  {
   "cell_type": "code",
   "execution_count": 8,
   "id": "cbb32be7",
   "metadata": {},
   "outputs": [
    {
     "data": {
      "text/plain": [
       "ShipName        object\n",
       "ShipType        object\n",
       "Nationality     object\n",
       "RecID            int64\n",
       "Year             int64\n",
       "Month            int64\n",
       "Day              int64\n",
       "Distance       float64\n",
       "ShipSpeed      float64\n",
       "drLatDeg       float64\n",
       "dtype: object"
      ]
     },
     "execution_count": 8,
     "metadata": {},
     "output_type": "execute_result"
    }
   ],
   "source": [
    "TripStaging_df.dtypes"
   ]
  },
  {
   "cell_type": "code",
   "execution_count": 9,
   "id": "1e3a0efb",
   "metadata": {},
   "outputs": [
    {
     "data": {
      "text/plain": [
       "ShipName       280280\n",
       "ShipType       161537\n",
       "Nationality    280280\n",
       "RecID          280280\n",
       "Year           280280\n",
       "Month          280280\n",
       "Day            280280\n",
       "Distance       168970\n",
       "ShipSpeed          37\n",
       "drLatDeg       155413\n",
       "dtype: int64"
      ]
     },
     "execution_count": 9,
     "metadata": {},
     "output_type": "execute_result"
    }
   ],
   "source": [
    "TripStaging_df.count()"
   ]
  },
  {
   "cell_type": "code",
   "execution_count": 10,
   "id": "97af30a1",
   "metadata": {},
   "outputs": [],
   "source": [
    "import psycopg2 as pg\n",
    "\n",
    "conn = pg.connect(user = \"postgres\",\n",
    "                 password = \"BU669\",\n",
    "                 host = \"127.0.0.1\",\n",
    "                 port = \"5432\",\n",
    "                 database = \"Assignment_3B\")\n",
    "cur = conn.cursor()"
   ]
  },
  {
   "cell_type": "code",
   "execution_count": 11,
   "id": "66bde0bc",
   "metadata": {},
   "outputs": [],
   "source": [
    "# Create Trips_Staging in database\n",
    "cur.execute(\"\"\"CREATE TABLE IF NOT EXISTS Trips_Staging(\n",
    "                ShipName varchar ,ShipType varchar, Nationality varchar, \n",
    "                RecID int, Year int, Month int, Day int, \n",
    "                Distance Float, ShipSpeed Float, drLatDeg Int);\"\"\")\n",
    "conn.commit()"
   ]
  },
  {
   "cell_type": "code",
   "execution_count": 12,
   "id": "12413192",
   "metadata": {},
   "outputs": [],
   "source": [
    "#Load data into DBMS\n",
    "for index, row in TripStaging_df.iterrows():\n",
    "    ShipName = row.ShipName if not pd.isna(row.ShipName) else None\n",
    "    ShipType = row.ShipType if not pd.isna(row.ShipType) else None\n",
    "    Nationality = row.Nationality if not pd.isna(row.Nationality) else None\n",
    "    Distance = row.Distance if not pd.isna(row.Distance) else None\n",
    "    ShipSpeed = row.ShipSpeed if not pd.isna(row.ShipSpeed) else None\n",
    "    drLatdeg = row.drLatDeg if not pd.isna(row.drLatDeg) else None\n",
    "    cur.execute(\"\"\"INSERT INTO Trips_Staging (ShipName, ShipType, Nationality, \n",
    "                                        RecID, Year, Month, Day,\n",
    "                                        Distance, ShipSpeed, drLatDeg) \n",
    "                                        values (%s,%s,%s,%s,%s,%s,%s,%s,%s, %s)\"\"\",\n",
    "                (ShipName, ShipType, Nationality, row.RecID, row.Year, \n",
    "                 row.Month, row.Day, Distance, ShipSpeed, drLatdeg))\n",
    "conn.commit()"
   ]
  },
  {
   "cell_type": "code",
   "execution_count": 38,
   "id": "61cb960e",
   "metadata": {},
   "outputs": [],
   "source": [
    "#Extra Credit\n",
    "cur.execute(\"\"\"CREATE TABLE IF NOT EXISTS Trips_Staging_weather(\n",
    "                ShipName varchar ,ShipType varchar, Nationality varchar, \n",
    "                RecID int, Year int, Month int, Day int, \n",
    "                Distance Float, ShipSpeed Float, drLatDeg Int,\n",
    "                Weather Varchar, WindForce Varchar, WindDirection Varchar, PrecipitationDescriptor varchar);\"\"\")\n",
    "conn.commit()"
   ]
  },
  {
   "cell_type": "code",
   "execution_count": 46,
   "id": "eac1e312",
   "metadata": {},
   "outputs": [],
   "source": [
    "TripStaging_weather_df = Trip_Staging_read_df.filter(['ShipName','ShipType','Nationality', 'RecID', 'Year',\n",
    "                                             'Month', 'Day', 'Distance', 'ShipSpeed', 'drLatDeg', \n",
    "                                                'Weather', 'WindForce', 'WindDirection', 'PrecipitationDescriptor'])"
   ]
  },
  {
   "cell_type": "code",
   "execution_count": 53,
   "id": "8b785ec5",
   "metadata": {},
   "outputs": [],
   "source": [
    "for index, row in TripStaging_weather_df.iterrows():\n",
    "    ShipName = row.ShipName if not pd.isna(row.ShipName) else None\n",
    "    ShipType = row.ShipType if not pd.isna(row.ShipType) else None\n",
    "    Nationality = row.Nationality if not pd.isna(row.Nationality) else None\n",
    "    Distance = row.Distance if not pd.isna(row.Distance) else None\n",
    "    ShipSpeed = row.ShipSpeed if not pd.isna(row.ShipSpeed) else None\n",
    "    drLatdeg = row.drLatDeg if not pd.isna(row.drLatDeg) else None\n",
    "    Weather = row.Weather if not pd.isna(row.Weather) else None\n",
    "    WindForce = row.WindForce if not pd.isna(row.WindForce) else None\n",
    "    WindDirection = row.WindDirection if not pd.isna(row.WindDirection) else None\n",
    "    PrecipitationDescriptor = row.PrecipitationDescriptor if not pd.isna(row.PrecipitationDescriptor) else None\n",
    "    cur.execute(\"\"\"INSERT INTO Trips_Staging_weather (ShipName, ShipType, Nationality, \n",
    "                                        RecID, Year, Month, Day,\n",
    "                                        Distance, ShipSpeed, drLatDeg,\n",
    "                                        Weather, WindForce, WindDirection, PrecipitationDescriptor) \n",
    "                                        values (%s,%s,%s,%s,%s,%s,%s,%s,%s,%s, %s, %s, %s, %s)\"\"\",\n",
    "(ShipName, ShipType, Nationality, row.RecID, row.Year,row.Month, row.Day, Distance, ShipSpeed, drLatdeg, Weather, WindForce, \n",
    "                 WindDirection, PrecipitationDescriptor))\n",
    "conn.commit()\n"
   ]
  },
  {
   "cell_type": "code",
   "execution_count": 49,
   "id": "42a7b49b",
   "metadata": {},
   "outputs": [
    {
     "data": {
      "text/plain": [
       "ShipName                   280280\n",
       "ShipType                   161537\n",
       "Nationality                280280\n",
       "RecID                      280280\n",
       "Year                       280280\n",
       "Month                      280280\n",
       "Day                        280280\n",
       "Distance                   168970\n",
       "ShipSpeed                      37\n",
       "drLatDeg                   155413\n",
       "Weather                     95390\n",
       "WindForce                  249831\n",
       "WindDirection              270238\n",
       "PrecipitationDescriptor     24757\n",
       "dtype: int64"
      ]
     },
     "execution_count": 49,
     "metadata": {},
     "output_type": "execute_result"
    }
   ],
   "source": [
    "TripStaging_weather_df.count()"
   ]
  },
  {
   "cell_type": "code",
   "execution_count": null,
   "id": "57e3c54f",
   "metadata": {},
   "outputs": [],
   "source": []
  }
 ],
 "metadata": {
  "kernelspec": {
   "display_name": "Python 3 (ipykernel)",
   "language": "python",
   "name": "python3"
  },
  "language_info": {
   "codemirror_mode": {
    "name": "ipython",
    "version": 3
   },
   "file_extension": ".py",
   "mimetype": "text/x-python",
   "name": "python",
   "nbconvert_exporter": "python",
   "pygments_lexer": "ipython3",
   "version": "3.9.13"
  }
 },
 "nbformat": 4,
 "nbformat_minor": 5
}
